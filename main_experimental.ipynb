{
 "cells": [
  {
   "cell_type": "code",
   "execution_count": null,
   "metadata": {},
   "outputs": [
    {
     "name": "stdout",
     "output_type": "stream",
     "text": [
      "Getting Train/Test Ids\n",
      "Check debugging\n",
      "Making model and dataset\n",
      "Training...\n",
      "Epoch:  0   Time:  7.121415376663208   Running loss:  0.19122035801410675\n",
      "Epoch:  1   Time:  3.905905246734619   Running loss:  0.19056367874145508\n",
      "Epoch:  2   Time:  3.891817808151245   Running loss:  0.18990899622440338\n",
      "Epoch:  3   Time:  3.8981235027313232   Running loss:  0.18925803899765015\n"
     ]
    }
   ],
   "source": [
    "import os, time, scipy.io, pdb\n",
    "\n",
    "import rawpy\n",
    "import numpy as np\n",
    "\n",
    "import torch\n",
    "import torch.nn as nn\n",
    "import torch.optim as optim\n",
    "from torch.utils import data\n",
    "\n",
    "from GLOBALS import * \n",
    "from train import train_experimental\n",
    "from experimental_model import SeeInDark_Experimental\n",
    "from SID_Dataset_Experimental import Dataset\n",
    "from utils import get_train_ids, get_test_ids\n",
    "\n",
    "\n",
    "\n",
    "def main():\n",
    "    print('Getting Train/Test Ids')\n",
    "    train_ids = get_train_ids()\n",
    "    test_ids = get_test_ids()\n",
    "    \n",
    "    print('Check debugging')\n",
    "    DEBUG = 1\n",
    "    if DEBUG == 1:\n",
    "        train_ids = train_ids[0:1]\n",
    "        test_ids = test_ids[0:1]\n",
    "\n",
    "    print('Making model and dataset')\n",
    "    model = SeeInDark_Experimental()\n",
    "    model._initialize_weights()\n",
    "    \n",
    "    train_dataset = Dataset(train_ids)\n",
    "    train_loader_args = dict(shuffle=True, batch_size=BATCH_SIZE, num_workers=2, pin_memory=True)\n",
    "    dataloader = data.DataLoader(train_dataset, **train_loader_args)\n",
    "    \n",
    "    optimizer = optim.Adam(model.parameters(), lr=1e-4)\n",
    "    \n",
    "    print('Training...')\n",
    "    train_losses = []\n",
    "    \n",
    "    for epoch in range(0, 4001):\n",
    "        # time it\n",
    "        start_time = time.time()\n",
    "        \n",
    "        # Run an epoch\n",
    "        train_loss = train_experimental(model, epoch, dataloader, optimizer)\n",
    "        train_losses.append(train_loss)\n",
    "        \n",
    "        # time it\n",
    "        end_time = time.time()\n",
    "        print(\"Epoch: \", epoch,  \"  Time: \", end_time - start_time, \"  Running loss: \", train_loss)\n",
    "        \n",
    "\n",
    "main()"
   ]
  },
  {
   "cell_type": "code",
   "execution_count": null,
   "metadata": {},
   "outputs": [],
   "source": []
  }
 ],
 "metadata": {
  "kernelspec": {
   "display_name": "Environment (conda_pytorch_p36)",
   "language": "python",
   "name": "conda_pytorch_p36"
  },
  "language_info": {
   "codemirror_mode": {
    "name": "ipython",
    "version": 3
   },
   "file_extension": ".py",
   "mimetype": "text/x-python",
   "name": "python",
   "nbconvert_exporter": "python",
   "pygments_lexer": "ipython3",
   "version": "3.6.5"
  }
 },
 "nbformat": 4,
 "nbformat_minor": 2
}
